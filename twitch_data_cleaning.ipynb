{
 "cells": [
  {
   "cell_type": "code",
   "execution_count": 1,
   "metadata": {},
   "outputs": [],
   "source": [
    "import pandas as pd\n",
    "import numpy as np\n",
    "import matplotlib.pyplot as plt\n",
    "import seaborn as sns"
   ]
  },
  {
   "cell_type": "code",
   "execution_count": 2,
   "metadata": {},
   "outputs": [],
   "source": [
    "# Load Dataset\n",
    "df = pd.read_csv(\"twitch_small_streamers.csv\")"
   ]
  },
  {
   "cell_type": "code",
   "execution_count": 3,
   "metadata": {},
   "outputs": [
    {
     "name": "stdout",
     "output_type": "stream",
     "text": [
      "\n",
      "🔍 First 5 Rows of the Dataset:\n"
     ]
    },
    {
     "data": {
      "text/html": [
       "<div>\n",
       "<style scoped>\n",
       "    .dataframe tbody tr th:only-of-type {\n",
       "        vertical-align: middle;\n",
       "    }\n",
       "\n",
       "    .dataframe tbody tr th {\n",
       "        vertical-align: top;\n",
       "    }\n",
       "\n",
       "    .dataframe thead th {\n",
       "        text-align: right;\n",
       "    }\n",
       "</style>\n",
       "<table border=\"1\" class=\"dataframe\">\n",
       "  <thead>\n",
       "    <tr style=\"text-align: right;\">\n",
       "      <th></th>\n",
       "      <th>streamer_name</th>\n",
       "      <th>game</th>\n",
       "      <th>viewers</th>\n",
       "      <th>start_time</th>\n",
       "      <th>user_login</th>\n",
       "      <th>stream_id</th>\n",
       "      <th>language</th>\n",
       "      <th>title</th>\n",
       "      <th>tags</th>\n",
       "      <th>duration</th>\n",
       "      <th>total_game_viewers</th>\n",
       "      <th>active_streams</th>\n",
       "      <th>avg_viewers_per_game</th>\n",
       "    </tr>\n",
       "  </thead>\n",
       "  <tbody>\n",
       "    <tr>\n",
       "      <th>0</th>\n",
       "      <td>taybisox</td>\n",
       "      <td>Just Chatting</td>\n",
       "      <td>72</td>\n",
       "      <td>2025-03-20T16:10:23Z</td>\n",
       "      <td>taybisox</td>\n",
       "      <td>319354193149</td>\n",
       "      <td>ru</td>\n",
       "      <td>ДОБРЫЙ АУК НА ФИЛЬМ/ANIME (без правил, 1 прави...</td>\n",
       "      <td>Русский, девушка, общение, girl, Cosplay, аним...</td>\n",
       "      <td>195.0</td>\n",
       "      <td>55380</td>\n",
       "      <td>2366</td>\n",
       "      <td>23.406593</td>\n",
       "    </tr>\n",
       "    <tr>\n",
       "      <th>1</th>\n",
       "      <td>小熙肉絲</td>\n",
       "      <td>Just Chatting</td>\n",
       "      <td>99</td>\n",
       "      <td>2025-03-20T17:47:15Z</td>\n",
       "      <td>sophroseeeeee</td>\n",
       "      <td>315130774264</td>\n",
       "      <td>zh</td>\n",
       "      <td>3/21 救命 圍巾批發</td>\n",
       "      <td>中文, 奶茶千杯不醉, 香水收藏家, kpop, 年度熬夜亞軍, 儀式感</td>\n",
       "      <td>98.0</td>\n",
       "      <td>55380</td>\n",
       "      <td>2366</td>\n",
       "      <td>23.406593</td>\n",
       "    </tr>\n",
       "    <tr>\n",
       "      <th>2</th>\n",
       "      <td>Felikah</td>\n",
       "      <td>Just Chatting</td>\n",
       "      <td>97</td>\n",
       "      <td>2025-03-20T18:47:30Z</td>\n",
       "      <td>felikah</td>\n",
       "      <td>318151777788</td>\n",
       "      <td>de</td>\n",
       "      <td>🔴 PUMMEL PARTY ACTION 🔴 ELDEN RING 🔴 GODRICK D...</td>\n",
       "      <td>Deutsch, gaming, GHG, 7tv</td>\n",
       "      <td>38.0</td>\n",
       "      <td>55380</td>\n",
       "      <td>2366</td>\n",
       "      <td>23.406593</td>\n",
       "    </tr>\n",
       "    <tr>\n",
       "      <th>3</th>\n",
       "      <td>GetOnMyLvLTV</td>\n",
       "      <td>Just Chatting</td>\n",
       "      <td>96</td>\n",
       "      <td>2025-03-19T12:06:37Z</td>\n",
       "      <td>getonmylvltv</td>\n",
       "      <td>317412970361</td>\n",
       "      <td>de</td>\n",
       "      <td>24.07.2020 - Numero Uno | 24/7 alte Streams &amp; ...</td>\n",
       "      <td>Deutsch</td>\n",
       "      <td>1879.0</td>\n",
       "      <td>55380</td>\n",
       "      <td>2366</td>\n",
       "      <td>23.406593</td>\n",
       "    </tr>\n",
       "    <tr>\n",
       "      <th>4</th>\n",
       "      <td>LaserLent</td>\n",
       "      <td>Just Chatting</td>\n",
       "      <td>100</td>\n",
       "      <td>2025-03-20T17:31:13Z</td>\n",
       "      <td>laserlent</td>\n",
       "      <td>318146482172</td>\n",
       "      <td>es</td>\n",
       "      <td>DALAS se VUELVE TOTALMETE LOCO, FRANK CUESTA E...</td>\n",
       "      <td>Español, videojuegos, videojuegos, actualidad</td>\n",
       "      <td>114.0</td>\n",
       "      <td>55380</td>\n",
       "      <td>2366</td>\n",
       "      <td>23.406593</td>\n",
       "    </tr>\n",
       "  </tbody>\n",
       "</table>\n",
       "</div>"
      ],
      "text/plain": [
       "  streamer_name           game  viewers            start_time     user_login  \\\n",
       "0      taybisox  Just Chatting       72  2025-03-20T16:10:23Z       taybisox   \n",
       "1          小熙肉絲  Just Chatting       99  2025-03-20T17:47:15Z  sophroseeeeee   \n",
       "2       Felikah  Just Chatting       97  2025-03-20T18:47:30Z        felikah   \n",
       "3  GetOnMyLvLTV  Just Chatting       96  2025-03-19T12:06:37Z   getonmylvltv   \n",
       "4     LaserLent  Just Chatting      100  2025-03-20T17:31:13Z      laserlent   \n",
       "\n",
       "      stream_id language                                              title  \\\n",
       "0  319354193149       ru  ДОБРЫЙ АУК НА ФИЛЬМ/ANIME (без правил, 1 прави...   \n",
       "1  315130774264       zh                                       3/21 救命 圍巾批發   \n",
       "2  318151777788       de  🔴 PUMMEL PARTY ACTION 🔴 ELDEN RING 🔴 GODRICK D...   \n",
       "3  317412970361       de  24.07.2020 - Numero Uno | 24/7 alte Streams & ...   \n",
       "4  318146482172       es  DALAS se VUELVE TOTALMETE LOCO, FRANK CUESTA E...   \n",
       "\n",
       "                                                tags  duration  \\\n",
       "0  Русский, девушка, общение, girl, Cosplay, аним...     195.0   \n",
       "1               中文, 奶茶千杯不醉, 香水收藏家, kpop, 年度熬夜亞軍, 儀式感      98.0   \n",
       "2                          Deutsch, gaming, GHG, 7tv      38.0   \n",
       "3                                            Deutsch    1879.0   \n",
       "4      Español, videojuegos, videojuegos, actualidad     114.0   \n",
       "\n",
       "   total_game_viewers  active_streams  avg_viewers_per_game  \n",
       "0               55380            2366             23.406593  \n",
       "1               55380            2366             23.406593  \n",
       "2               55380            2366             23.406593  \n",
       "3               55380            2366             23.406593  \n",
       "4               55380            2366             23.406593  "
      ]
     },
     "metadata": {},
     "output_type": "display_data"
    },
    {
     "name": "stdout",
     "output_type": "stream",
     "text": [
      "\n",
      "🔍 Dataset Info:\n",
      "<class 'pandas.core.frame.DataFrame'>\n",
      "RangeIndex: 16809 entries, 0 to 16808\n",
      "Data columns (total 13 columns):\n",
      " #   Column                Non-Null Count  Dtype  \n",
      "---  ------                --------------  -----  \n",
      " 0   streamer_name         16809 non-null  object \n",
      " 1   game                  16809 non-null  object \n",
      " 2   viewers               16809 non-null  int64  \n",
      " 3   start_time            16809 non-null  object \n",
      " 4   user_login            16809 non-null  object \n",
      " 5   stream_id             16809 non-null  int64  \n",
      " 6   language              16809 non-null  object \n",
      " 7   title                 16795 non-null  object \n",
      " 8   tags                  16792 non-null  object \n",
      " 9   duration              16809 non-null  float64\n",
      " 10  total_game_viewers    16809 non-null  int64  \n",
      " 11  active_streams        16809 non-null  int64  \n",
      " 12  avg_viewers_per_game  16809 non-null  float64\n",
      "dtypes: float64(2), int64(4), object(7)\n",
      "memory usage: 1.7+ MB\n",
      "\n",
      "🔍 Summary Statistics:\n"
     ]
    },
    {
     "data": {
      "text/html": [
       "<div>\n",
       "<style scoped>\n",
       "    .dataframe tbody tr th:only-of-type {\n",
       "        vertical-align: middle;\n",
       "    }\n",
       "\n",
       "    .dataframe tbody tr th {\n",
       "        vertical-align: top;\n",
       "    }\n",
       "\n",
       "    .dataframe thead th {\n",
       "        text-align: right;\n",
       "    }\n",
       "</style>\n",
       "<table border=\"1\" class=\"dataframe\">\n",
       "  <thead>\n",
       "    <tr style=\"text-align: right;\">\n",
       "      <th></th>\n",
       "      <th>viewers</th>\n",
       "      <th>stream_id</th>\n",
       "      <th>duration</th>\n",
       "      <th>total_game_viewers</th>\n",
       "      <th>active_streams</th>\n",
       "      <th>avg_viewers_per_game</th>\n",
       "    </tr>\n",
       "  </thead>\n",
       "  <tbody>\n",
       "    <tr>\n",
       "      <th>count</th>\n",
       "      <td>16809.000000</td>\n",
       "      <td>1.680900e+04</td>\n",
       "      <td>16809.000000</td>\n",
       "      <td>16809.000000</td>\n",
       "      <td>16809.000000</td>\n",
       "      <td>16809.000000</td>\n",
       "    </tr>\n",
       "    <tr>\n",
       "      <th>mean</th>\n",
       "      <td>19.081920</td>\n",
       "      <td>3.179256e+11</td>\n",
       "      <td>176.138497</td>\n",
       "      <td>19185.677911</td>\n",
       "      <td>969.014754</td>\n",
       "      <td>19.081920</td>\n",
       "    </tr>\n",
       "    <tr>\n",
       "      <th>std</th>\n",
       "      <td>19.588545</td>\n",
       "      <td>1.446964e+09</td>\n",
       "      <td>256.667686</td>\n",
       "      <td>15966.576374</td>\n",
       "      <td>667.600826</td>\n",
       "      <td>3.505511</td>\n",
       "    </tr>\n",
       "    <tr>\n",
       "      <th>min</th>\n",
       "      <td>5.000000</td>\n",
       "      <td>3.141780e+11</td>\n",
       "      <td>0.000000</td>\n",
       "      <td>14.000000</td>\n",
       "      <td>1.000000</td>\n",
       "      <td>11.666667</td>\n",
       "    </tr>\n",
       "    <tr>\n",
       "      <th>25%</th>\n",
       "      <td>6.000000</td>\n",
       "      <td>3.174714e+11</td>\n",
       "      <td>57.000000</td>\n",
       "      <td>8031.000000</td>\n",
       "      <td>466.000000</td>\n",
       "      <td>15.648256</td>\n",
       "    </tr>\n",
       "    <tr>\n",
       "      <th>50%</th>\n",
       "      <td>11.000000</td>\n",
       "      <td>3.181479e+11</td>\n",
       "      <td>113.000000</td>\n",
       "      <td>15803.000000</td>\n",
       "      <td>792.000000</td>\n",
       "      <td>19.098485</td>\n",
       "    </tr>\n",
       "    <tr>\n",
       "      <th>75%</th>\n",
       "      <td>23.000000</td>\n",
       "      <td>3.193519e+11</td>\n",
       "      <td>202.000000</td>\n",
       "      <td>20050.000000</td>\n",
       "      <td>1145.000000</td>\n",
       "      <td>22.696078</td>\n",
       "    </tr>\n",
       "    <tr>\n",
       "      <th>max</th>\n",
       "      <td>100.000000</td>\n",
       "      <td>3.193664e+11</td>\n",
       "      <td>2876.000000</td>\n",
       "      <td>55380.000000</td>\n",
       "      <td>2366.000000</td>\n",
       "      <td>38.358491</td>\n",
       "    </tr>\n",
       "  </tbody>\n",
       "</table>\n",
       "</div>"
      ],
      "text/plain": [
       "            viewers     stream_id      duration  total_game_viewers  \\\n",
       "count  16809.000000  1.680900e+04  16809.000000        16809.000000   \n",
       "mean      19.081920  3.179256e+11    176.138497        19185.677911   \n",
       "std       19.588545  1.446964e+09    256.667686        15966.576374   \n",
       "min        5.000000  3.141780e+11      0.000000           14.000000   \n",
       "25%        6.000000  3.174714e+11     57.000000         8031.000000   \n",
       "50%       11.000000  3.181479e+11    113.000000        15803.000000   \n",
       "75%       23.000000  3.193519e+11    202.000000        20050.000000   \n",
       "max      100.000000  3.193664e+11   2876.000000        55380.000000   \n",
       "\n",
       "       active_streams  avg_viewers_per_game  \n",
       "count    16809.000000          16809.000000  \n",
       "mean       969.014754             19.081920  \n",
       "std        667.600826              3.505511  \n",
       "min          1.000000             11.666667  \n",
       "25%        466.000000             15.648256  \n",
       "50%        792.000000             19.098485  \n",
       "75%       1145.000000             22.696078  \n",
       "max       2366.000000             38.358491  "
      ]
     },
     "metadata": {},
     "output_type": "display_data"
    }
   ],
   "source": [
    "# Initial Data Inspection\n",
    "print(\"\\n🔍 First 5 Rows of the Dataset:\")\n",
    "display(df.head())\n",
    "\n",
    "print(\"\\n🔍 Dataset Info:\")\n",
    "df.info()\n",
    "\n",
    "print(\"\\n🔍 Summary Statistics:\")\n",
    "display(df.describe())"
   ]
  },
  {
   "cell_type": "code",
   "execution_count": 4,
   "metadata": {},
   "outputs": [
    {
     "name": "stdout",
     "output_type": "stream",
     "text": [
      "\n",
      "🔍 Missing Values per Column:\n",
      "streamer_name            0\n",
      "game                     0\n",
      "viewers                  0\n",
      "start_time               0\n",
      "user_login               0\n",
      "stream_id                0\n",
      "language                 0\n",
      "title                   14\n",
      "tags                    17\n",
      "duration                 0\n",
      "total_game_viewers       0\n",
      "active_streams           0\n",
      "avg_viewers_per_game     0\n",
      "dtype: int64\n"
     ]
    }
   ],
   "source": [
    "# Check for Missing Values\n",
    "print(\"\\n🔍 Missing Values per Column:\")\n",
    "print(df.isnull().sum())"
   ]
  },
  {
   "cell_type": "code",
   "execution_count": 5,
   "metadata": {},
   "outputs": [
    {
     "name": "stdout",
     "output_type": "stream",
     "text": [
      "✅ Missing values dropped!\n"
     ]
    }
   ],
   "source": [
    "# Handle Missing Values\n",
    "df = df.dropna()\n",
    "print(\"✅ Missing values dropped!\")"
   ]
  },
  {
   "cell_type": "code",
   "execution_count": 6,
   "metadata": {},
   "outputs": [
    {
     "name": "stdout",
     "output_type": "stream",
     "text": [
      "\n",
      "🔍 Missing Values per Column:\n",
      "streamer_name           0\n",
      "game                    0\n",
      "viewers                 0\n",
      "start_time              0\n",
      "user_login              0\n",
      "stream_id               0\n",
      "language                0\n",
      "title                   0\n",
      "tags                    0\n",
      "duration                0\n",
      "total_game_viewers      0\n",
      "active_streams          0\n",
      "avg_viewers_per_game    0\n",
      "dtype: int64\n"
     ]
    }
   ],
   "source": [
    "# Check for Missing Values\n",
    "print(\"\\n🔍 Missing Values per Column:\")\n",
    "print(df.isnull().sum())"
   ]
  },
  {
   "cell_type": "code",
   "execution_count": 7,
   "metadata": {},
   "outputs": [
    {
     "name": "stdout",
     "output_type": "stream",
     "text": [
      "\n",
      "🔍 Total Duplicate Rows Found (by stream_id): 3015\n",
      "✅ Duplicates Removed (based on stream_id)!\n"
     ]
    }
   ],
   "source": [
    "# Check for Duplicates\n",
    "duplicate_rows = df[df.duplicated(subset=['stream_id'])]\n",
    "print(f\"\\n🔍 Total Duplicate Rows Found (by stream_id): {len(duplicate_rows)}\")\n",
    "\n",
    "if len(duplicate_rows) > 0:\n",
    "    df = df.drop_duplicates(subset=['stream_id'])\n",
    "    print(\"✅ Duplicates Removed (based on stream_id)!\")"
   ]
  },
  {
   "cell_type": "code",
   "execution_count": 8,
   "metadata": {},
   "outputs": [
    {
     "name": "stdout",
     "output_type": "stream",
     "text": [
      "✅ Converted 'start_time' to datetime format!\n"
     ]
    }
   ],
   "source": [
    "# Convert 'start_time' to Datetime Format\n",
    "df['start_time'] = pd.to_datetime(df['start_time'])\n",
    "print(\"✅ Converted 'start_time' to datetime format!\")"
   ]
  },
  {
   "cell_type": "code",
   "execution_count": 9,
   "metadata": {},
   "outputs": [
    {
     "name": "stdout",
     "output_type": "stream",
     "text": [
      "\n",
      "🔍 Checking for Outliers in 'duration':\n"
     ]
    },
    {
     "data": {
      "image/png": "[encoded data removed]",
      "text/plain": [
       "<Figure size 1000x400 with 1 Axes>"
      ]
     },
     "metadata": {},
     "output_type": "display_data"
    },
    {
     "name": "stdout",
     "output_type": "stream",
     "text": [
      "\n",
      "🔍 Checking for Outliers in 'avg_viewers_per_game':\n"
     ]
    },
    {
     "data": {
      "image/png": "[encoded data removed]",
      "text/plain": [
       "<Figure size 1000x400 with 1 Axes>"
      ]
     },
     "metadata": {},
     "output_type": "display_data"
    }
   ],
   "source": [
    "# Validate Key Metrics\n",
    "# Ensure 'duration' and 'avg_viewers_per_game' are reasonable\n",
    "print(\"\\n🔍 Checking for Outliers in 'duration':\")\n",
    "plt.figure(figsize=(10, 4))\n",
    "sns.boxplot(x=df['duration'])\n",
    "plt.show()\n",
    "\n",
    "print(\"\\n🔍 Checking for Outliers in 'avg_viewers_per_game':\")\n",
    "plt.figure(figsize=(10, 4))\n",
    "sns.boxplot(x=df['avg_viewers_per_game'])\n",
    "plt.show()\n"
   ]
  },
  {
   "cell_type": "code",
   "execution_count": 10,
   "metadata": {},
   "outputs": [
    {
     "name": "stdout",
     "output_type": "stream",
     "text": [
      "\n",
      "✅ Removed 147 streams exceeding 24 hours.\n"
     ]
    }
   ],
   "source": [
    "# Remove Long Streams (Over 24 Hours)\n",
    "initial_count = len(df)\n",
    "df = df[df['duration'] <= 1440]  # Keep only streams <= 24 hours (1440 minutes)\n",
    "removed_count = initial_count - len(df)\n",
    "print(f\"\\n✅ Removed {removed_count} streams exceeding 24 hours.\")"
   ]
  },
  {
   "cell_type": "code",
   "execution_count": 11,
   "metadata": {},
   "outputs": [],
   "source": [
    "# Standardize Text Fields (Languages, Tags)\n",
    "df['language'] = df['language'].str.lower()\n",
    "df['tags'] = df['tags'].str.lower()"
   ]
  },
  {
   "cell_type": "code",
   "execution_count": 12,
   "metadata": {},
   "outputs": [
    {
     "name": "stdout",
     "output_type": "stream",
     "text": [
      "\n",
      "✅ Data Cleaning Completed! Cleaned data saved as 'twitch_cleaned_data.csv'.\n",
      "\n",
      "📊 Final Dataset Shape: 13616 rows, 13 columns\n"
     ]
    },
    {
     "data": {
      "text/html": [
       "<div>\n",
       "<style scoped>\n",
       "    .dataframe tbody tr th:only-of-type {\n",
       "        vertical-align: middle;\n",
       "    }\n",
       "\n",
       "    .dataframe tbody tr th {\n",
       "        vertical-align: top;\n",
       "    }\n",
       "\n",
       "    .dataframe thead th {\n",
       "        text-align: right;\n",
       "    }\n",
       "</style>\n",
       "<table border=\"1\" class=\"dataframe\">\n",
       "  <thead>\n",
       "    <tr style=\"text-align: right;\">\n",
       "      <th></th>\n",
       "      <th>streamer_name</th>\n",
       "      <th>game</th>\n",
       "      <th>viewers</th>\n",
       "      <th>start_time</th>\n",
       "      <th>user_login</th>\n",
       "      <th>stream_id</th>\n",
       "      <th>language</th>\n",
       "      <th>title</th>\n",
       "      <th>tags</th>\n",
       "      <th>duration</th>\n",
       "      <th>total_game_viewers</th>\n",
       "      <th>active_streams</th>\n",
       "      <th>avg_viewers_per_game</th>\n",
       "    </tr>\n",
       "  </thead>\n",
       "  <tbody>\n",
       "    <tr>\n",
       "      <th>0</th>\n",
       "      <td>taybisox</td>\n",
       "      <td>Just Chatting</td>\n",
       "      <td>72</td>\n",
       "      <td>2025-03-20 16:10:23+00:00</td>\n",
       "      <td>taybisox</td>\n",
       "      <td>319354193149</td>\n",
       "      <td>ru</td>\n",
       "      <td>ДОБРЫЙ АУК НА ФИЛЬМ/ANIME (без правил, 1 прави...</td>\n",
       "      <td>русский, девушка, общение, girl, cosplay, аним...</td>\n",
       "      <td>195.0</td>\n",
       "      <td>55380</td>\n",
       "      <td>2366</td>\n",
       "      <td>23.406593</td>\n",
       "    </tr>\n",
       "    <tr>\n",
       "      <th>1</th>\n",
       "      <td>小熙肉絲</td>\n",
       "      <td>Just Chatting</td>\n",
       "      <td>99</td>\n",
       "      <td>2025-03-20 17:47:15+00:00</td>\n",
       "      <td>sophroseeeeee</td>\n",
       "      <td>315130774264</td>\n",
       "      <td>zh</td>\n",
       "      <td>3/21 救命 圍巾批發</td>\n",
       "      <td>中文, 奶茶千杯不醉, 香水收藏家, kpop, 年度熬夜亞軍, 儀式感</td>\n",
       "      <td>98.0</td>\n",
       "      <td>55380</td>\n",
       "      <td>2366</td>\n",
       "      <td>23.406593</td>\n",
       "    </tr>\n",
       "    <tr>\n",
       "      <th>2</th>\n",
       "      <td>Felikah</td>\n",
       "      <td>Just Chatting</td>\n",
       "      <td>97</td>\n",
       "      <td>2025-03-20 18:47:30+00:00</td>\n",
       "      <td>felikah</td>\n",
       "      <td>318151777788</td>\n",
       "      <td>de</td>\n",
       "      <td>🔴 PUMMEL PARTY ACTION 🔴 ELDEN RING 🔴 GODRICK D...</td>\n",
       "      <td>deutsch, gaming, ghg, 7tv</td>\n",
       "      <td>38.0</td>\n",
       "      <td>55380</td>\n",
       "      <td>2366</td>\n",
       "      <td>23.406593</td>\n",
       "    </tr>\n",
       "    <tr>\n",
       "      <th>4</th>\n",
       "      <td>LaserLent</td>\n",
       "      <td>Just Chatting</td>\n",
       "      <td>100</td>\n",
       "      <td>2025-03-20 17:31:13+00:00</td>\n",
       "      <td>laserlent</td>\n",
       "      <td>318146482172</td>\n",
       "      <td>es</td>\n",
       "      <td>DALAS se VUELVE TOTALMETE LOCO, FRANK CUESTA E...</td>\n",
       "      <td>español, videojuegos, videojuegos, actualidad</td>\n",
       "      <td>114.0</td>\n",
       "      <td>55380</td>\n",
       "      <td>2366</td>\n",
       "      <td>23.406593</td>\n",
       "    </tr>\n",
       "    <tr>\n",
       "      <th>5</th>\n",
       "      <td>kitnip_</td>\n",
       "      <td>Just Chatting</td>\n",
       "      <td>100</td>\n",
       "      <td>2025-03-20 17:16:08+00:00</td>\n",
       "      <td>kitnip_</td>\n",
       "      <td>317471611385</td>\n",
       "      <td>en</td>\n",
       "      <td>first ever IRL strim | !kofi !socials</td>\n",
       "      <td>girl, english, swedish, chatty</td>\n",
       "      <td>129.0</td>\n",
       "      <td>55380</td>\n",
       "      <td>2366</td>\n",
       "      <td>23.406593</td>\n",
       "    </tr>\n",
       "  </tbody>\n",
       "</table>\n",
       "</div>"
      ],
      "text/plain": [
       "  streamer_name           game  viewers                start_time  \\\n",
       "0      taybisox  Just Chatting       72 2025-03-20 16:10:23+00:00   \n",
       "1          小熙肉絲  Just Chatting       99 2025-03-20 17:47:15+00:00   \n",
       "2       Felikah  Just Chatting       97 2025-03-20 18:47:30+00:00   \n",
       "4     LaserLent  Just Chatting      100 2025-03-20 17:31:13+00:00   \n",
       "5       kitnip_  Just Chatting      100 2025-03-20 17:16:08+00:00   \n",
       "\n",
       "      user_login     stream_id language  \\\n",
       "0       taybisox  319354193149       ru   \n",
       "1  sophroseeeeee  315130774264       zh   \n",
       "2        felikah  318151777788       de   \n",
       "4      laserlent  318146482172       es   \n",
       "5        kitnip_  317471611385       en   \n",
       "\n",
       "                                               title  \\\n",
       "0  ДОБРЫЙ АУК НА ФИЛЬМ/ANIME (без правил, 1 прави...   \n",
       "1                                       3/21 救命 圍巾批發   \n",
       "2  🔴 PUMMEL PARTY ACTION 🔴 ELDEN RING 🔴 GODRICK D...   \n",
       "4  DALAS se VUELVE TOTALMETE LOCO, FRANK CUESTA E...   \n",
       "5              first ever IRL strim | !kofi !socials   \n",
       "\n",
       "                                                tags  duration  \\\n",
       "0  русский, девушка, общение, girl, cosplay, аним...     195.0   \n",
       "1               中文, 奶茶千杯不醉, 香水收藏家, kpop, 年度熬夜亞軍, 儀式感      98.0   \n",
       "2                          deutsch, gaming, ghg, 7tv      38.0   \n",
       "4      español, videojuegos, videojuegos, actualidad     114.0   \n",
       "5                     girl, english, swedish, chatty     129.0   \n",
       "\n",
       "   total_game_viewers  active_streams  avg_viewers_per_game  \n",
       "0               55380            2366             23.406593  \n",
       "1               55380            2366             23.406593  \n",
       "2               55380            2366             23.406593  \n",
       "4               55380            2366             23.406593  \n",
       "5               55380            2366             23.406593  "
      ]
     },
     "metadata": {},
     "output_type": "display_data"
    }
   ],
   "source": [
    "# Save Final Cleaned Dataset and Display Final Shape\n",
    "df.to_csv(\"twitch_cleaned_data.csv\", index=False)\n",
    "print(\"\\n✅ Data Cleaning Completed! Cleaned data saved as 'twitch_cleaned_data.csv'.\")\n",
    "\n",
    "# Display final dataset shape\n",
    "print(f\"\\n📊 Final Dataset Shape: {df.shape[0]} rows, {df.shape[1]} columns\")\n",
    "display(df.head())\n"
   ]
  }
 ],
 "metadata": {
  "kernelspec": {
   "display_name": "twitch_project_env",
   "language": "python",
   "name": "python3"
  },
  "language_info": {
   "codemirror_mode": {
    "name": "ipython",
    "version": 3
   },
   "file_extension": ".py",
   "mimetype": "text/x-python",
   "name": "python",
   "nbconvert_exporter": "python",
   "pygments_lexer": "ipython3",
   "version": "3.12.9"
  }
 },
 "nbformat": 4,
 "nbformat_minor": 2
}
